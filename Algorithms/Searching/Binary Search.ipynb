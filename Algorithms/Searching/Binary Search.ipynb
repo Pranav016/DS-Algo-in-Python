{
 "cells": [
  {
   "cell_type": "markdown",
   "metadata": {},
   "source": [
    "# Binary Search"
   ]
  },
  {
   "cell_type": "code",
   "execution_count": 51,
   "metadata": {},
   "outputs": [],
   "source": [
    "import numpy as np"
   ]
  },
  {
   "cell_type": "code",
   "execution_count": 52,
   "metadata": {},
   "outputs": [],
   "source": [
    "np.random.seed(0)"
   ]
  },
  {
   "cell_type": "code",
   "execution_count": 53,
   "metadata": {},
   "outputs": [],
   "source": [
    "def binary(a, key, start, end):\n",
    "    if start>=end:\n",
    "        return\n",
    "    mid=math.floor((start+end)/2)\n",
    "    if a[mid]==key:\n",
    "        return mid\n",
    "    elif a[mid] > key:\n",
    "        return binary(a, key, start, mid-1)\n",
    "    else:\n",
    "        return binary(a, key, mid+1, end)"
   ]
  },
  {
   "cell_type": "code",
   "execution_count": 59,
   "metadata": {
    "scrolled": true
   },
   "outputs": [
    {
     "name": "stdout",
     "output_type": "stream",
     "text": [
      "Element found at 50\n"
     ]
    }
   ],
   "source": [
    "x=0\n",
    "arr= np.random.randint(1000, size=100)\n",
    "x=binary(arr, arr[50], 0, 100)\n",
    "if x:\n",
    "    print(\"Element found at {}\".format(x))\n",
    "else:\n",
    "    print(\"Element not found\")"
   ]
  }
 ],
 "metadata": {
  "kernelspec": {
   "display_name": "Python 3",
   "language": "python",
   "name": "python3"
  },
  "language_info": {
   "codemirror_mode": {
    "name": "ipython",
    "version": 3
   },
   "file_extension": ".py",
   "mimetype": "text/x-python",
   "name": "python",
   "nbconvert_exporter": "python",
   "pygments_lexer": "ipython3",
   "version": "3.7.7"
  }
 },
 "nbformat": 4,
 "nbformat_minor": 4
}
