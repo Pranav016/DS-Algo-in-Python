{
 "cells": [
  {
   "cell_type": "markdown",
   "metadata": {},
   "source": [
    "# Linear Search"
   ]
  },
  {
   "cell_type": "code",
   "execution_count": 68,
   "metadata": {},
   "outputs": [],
   "source": [
    "import numpy as np"
   ]
  },
  {
   "cell_type": "code",
   "execution_count": 69,
   "metadata": {},
   "outputs": [],
   "source": [
    "def linear_search(a,key):\n",
    "    for i,elem in enumerate(a):\n",
    "        if elem==key:\n",
    "            return i"
   ]
  },
  {
   "cell_type": "code",
   "execution_count": 70,
   "metadata": {},
   "outputs": [],
   "source": [
    "np.random.seed(0)\n",
    "arr=np.random.randint(1000,size=100)"
   ]
  },
  {
   "cell_type": "code",
   "execution_count": 71,
   "metadata": {},
   "outputs": [
    {
     "data": {
      "text/plain": [
       "array([684, 559, 629, 192, 835, 763, 707, 359,   9, 723, 277, 754, 804,\n",
       "       599,  70, 472, 600, 396, 314, 705, 486, 551,  87, 174, 600, 849,\n",
       "       677, 537, 845,  72, 777, 916, 115, 976, 755, 709, 847, 431, 448,\n",
       "       850,  99, 984, 177, 755, 797, 659, 147, 910, 423, 288, 961, 265,\n",
       "       697, 639, 544, 543, 714, 244, 151, 675, 510, 459, 882, 183,  28,\n",
       "       802, 128, 128, 932,  53, 901, 550, 488, 756, 273, 335, 388, 617,\n",
       "        42, 442, 543, 888, 257, 321, 999, 937,  57, 291, 870, 119, 779,\n",
       "       430,  82,  91, 896, 398, 611, 565, 908, 633])"
      ]
     },
     "execution_count": 71,
     "metadata": {},
     "output_type": "execute_result"
    }
   ],
   "source": [
    "arr"
   ]
  },
  {
   "cell_type": "code",
   "execution_count": 72,
   "metadata": {},
   "outputs": [
    {
     "name": "stdout",
     "output_type": "stream",
     "text": [
      "Element found at 99\n"
     ]
    }
   ],
   "source": [
    "x=0\n",
    "x=linear_search(arr,arr[99])\n",
    "if x:\n",
    "    print(\"Element found at {}\".format(x))\n",
    "else:\n",
    "    print(\"Element not found\")"
   ]
  }
 ],
 "metadata": {
  "kernelspec": {
   "display_name": "Python 3",
   "language": "python",
   "name": "python3"
  },
  "language_info": {
   "codemirror_mode": {
    "name": "ipython",
    "version": 3
   },
   "file_extension": ".py",
   "mimetype": "text/x-python",
   "name": "python",
   "nbconvert_exporter": "python",
   "pygments_lexer": "ipython3",
   "version": "3.7.7"
  }
 },
 "nbformat": 4,
 "nbformat_minor": 4
}
